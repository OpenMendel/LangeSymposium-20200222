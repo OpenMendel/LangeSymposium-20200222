{
 "cells": [
  {
   "cell_type": "markdown",
   "metadata": {
    "toc": true
   },
   "source": [
    "<h1>Table of Contents<span class=\"tocSkip\"></span></h1>\n",
    "<div class=\"toc\"><ul class=\"toc-item\"><li><span><a href=\"#VarianceComponentModels.jl\" data-toc-modified-id=\"VarianceComponentModels.jl-1\">VarianceComponentModels.jl</a></span><ul class=\"toc-item\"><li><span><a href=\"#Package-Features\" data-toc-modified-id=\"Package-Features-1.1\">Package Features</a></span></li><li><span><a href=\"#Installation\" data-toc-modified-id=\"Installation-1.2\">Installation</a></span></li></ul></li><li><span><a href=\"#Heritability-Analysis\" data-toc-modified-id=\"Heritability-Analysis-2\">Heritability Analysis</a></span><ul class=\"toc-item\"><li><span><a href=\"#Install-packages-for-the-tutorial\" data-toc-modified-id=\"Install-packages-for-the-tutorial-2.1\">Install packages for the tutorial</a></span></li><li><span><a href=\"#Data-files\" data-toc-modified-id=\"Data-files-2.2\">Data files</a></span></li><li><span><a href=\"#Read-in-binary-SNP-data\" data-toc-modified-id=\"Read-in-binary-SNP-data-2.3\">Read in binary SNP data</a></span></li><li><span><a href=\"#Summary-statistics-of-SNP-data\" data-toc-modified-id=\"Summary-statistics-of-SNP-data-2.4\">Summary statistics of SNP data</a></span></li><li><span><a href=\"#Empirical-kinship-matrix\" data-toc-modified-id=\"Empirical-kinship-matrix-2.5\">Empirical kinship matrix</a></span></li><li><span><a href=\"#Simulating-phenotypes\" data-toc-modified-id=\"Simulating-phenotypes-2.6\">Simulating phenotypes</a></span></li><li><span><a href=\"#Phenotypes\" data-toc-modified-id=\"Phenotypes-2.7\">Phenotypes</a></span></li><li><span><a href=\"#Pre-processing-data-for-heritability-analysis\" data-toc-modified-id=\"Pre-processing-data-for-heritability-analysis-2.8\">Pre-processing data for heritability analysis</a></span></li><li><span><a href=\"#Save-intermediate-results\" data-toc-modified-id=\"Save-intermediate-results-2.9\">Save intermediate results</a></span></li><li><span><a href=\"#Heritability-of-single-traits\" data-toc-modified-id=\"Heritability-of-single-traits-2.10\">Heritability of single traits</a></span></li><li><span><a href=\"#Pairwise-traits\" data-toc-modified-id=\"Pairwise-traits-2.11\">Pairwise traits</a></span></li><li><span><a href=\"#3-trait-analysis\" data-toc-modified-id=\"3-trait-analysis-2.12\">3-trait analysis</a></span></li><li><span><a href=\"#Save-analysis-results\" data-toc-modified-id=\"Save-analysis-results-2.13\">Save analysis results</a></span></li></ul></li></ul></div>"
   ]
  },
  {
   "cell_type": "markdown",
   "metadata": {},
   "source": [
    "# Heritability Analysis via `VarianceComponentModels.jl`\n",
    "\n",
    "**Lange Symposium**\n",
    "\n",
    "**Juhyun Kim, juhkim111@ucla.edu**\n",
    "\n",
    "**Department of Biostatistics, UCLA**\n",
    "\n",
    "**Feb 22, 2020**"
   ]
  },
  {
   "cell_type": "markdown",
   "metadata": {},
   "source": [
    "Machine information:"
   ]
  },
  {
   "cell_type": "code",
   "execution_count": 1,
   "metadata": {},
   "outputs": [
    {
     "name": "stdout",
     "output_type": "stream",
     "text": [
      "Julia Version 1.3.1\n",
      "Commit 2d5741174c (2019-12-30 21:36 UTC)\n",
      "Platform Info:\n",
      "  OS: macOS (x86_64-apple-darwin18.6.0)\n",
      "  CPU: Intel(R) Core(TM) i5-6267U CPU @ 2.90GHz\n",
      "  WORD_SIZE: 64\n",
      "  LIBM: libopenlibm\n",
      "  LLVM: libLLVM-6.0.1 (ORCJIT, skylake)\n"
     ]
    }
   ],
   "source": [
    "versioninfo()"
   ]
  },
  {
   "cell_type": "markdown",
   "metadata": {},
   "source": [
    "## VarianceComponentModels.jl\n",
    "\n",
    "[`VarianceComponentModels.jl`](https://github.com/OpenMendel/VarianceComponentModels.jl/) is a package that resides in [OpenMendel](https://github.com/OpenMendel) ecosystem. It implements computation routines for fitting and testing variance component model of form \n",
    "\n",
    "$$\\text{vec}(Y) \\sim \\text{Normal}(XB, \\Sigma_1 \\otimes V_1 + \\cdots + \\Sigma_m \\otimes V_m)$$\n",
    "\n",
    "where $\\otimes$ is the [Kronecker product](https://en.wikipedia.org/wiki/Kronecker_product). \n",
    "\n",
    "\n"
   ]
  },
  {
   "cell_type": "markdown",
   "metadata": {},
   "source": [
    "### Package Features \n",
    "* Maximum likelihood estimation (MLE) and restricted maximum likelihood estimation (REML) of mean parameters B and variance component parameters $Σ$\n",
    "* Allow constraints in the mean parameters $B$\n",
    "* Choice of optimization algorithms: [Fisher scoring](https://books.google.com/books?id=QYqeYTftPNwC&lpg=PP1&pg=PA142#v=onepage&q&f=false) and [minorization-maximization algorithm](http://hua-zhou.github.io/media/pdf/ZhouHuZhouLange19VCMM.pdf)\n",
    "* [Heritability Analysis](https://openmendel.github.io/VarianceComponentModels.jl/latest/man/heritability/#Heritability-Analysis-1) in genetics"
   ]
  },
  {
   "cell_type": "markdown",
   "metadata": {},
   "source": [
    "### Installation\n",
    "\n",
    "This package requires Julia v0.7.0 or later, which can be obtained from https://julialang.org/downloads/ or by building Julia from the sources in the https://github.com/JuliaLang/julia repository.\n",
    "\n",
    "The package has not yet been registered and must be installed using the repository location. Start julia and use the ] key to switch to the package manager REPL\n",
    "\n",
    "```julia\n",
    "(v1.3) pkg> add https://github.com/OpenMendel/VarianceComponentModels.jl.git\n",
    "```\n",
    "\n",
    "Use the backspace key to return to the Julia REPL."
   ]
  },
  {
   "cell_type": "markdown",
   "metadata": {},
   "source": [
    "## Heritability Analysis "
   ]
  },
  {
   "cell_type": "markdown",
   "metadata": {},
   "source": [
    "### Install packages for the tutorial\n",
    "\n",
    "For this tutorial, we need package [`SnpArrays`](https://openmendel.github.io/SnpArrays.jl/latest/).\n",
    "\n",
    "Package `SnpArrays` requires Julia v0.7 or later. The package has not yet been registered and must be installed using the repository location. Start julia and use the `]` key to switch to the package manager REPL: \n",
    "\n",
    "```julia\n",
    "(v1.3) pkg> add https://github.com/OpenMendel/SnpArrays.jl\n",
    "```\n",
    "\n",
    "Other packages that we use for this tutorial (e.g. [`Glob`](https://github.com/vtjnash/Glob.jl) and [`PyPlot`](https://github.com/JuliaPy/PyPlot.jl)) are registered. Start julia and use the `]` key to switch to the package manager REPL: \n",
    "\n",
    "```julia \n",
    "(v1.3) pkg> add Glob, PyPlot\n",
    "```"
   ]
  },
  {
   "cell_type": "markdown",
   "metadata": {},
   "source": [
    "### Data files\n",
    "\n",
    "For this analysis, we use a sample data set `EUR_subset` from `SnpArrays.jl` (https://openmendel.github.io/SnpArrays.jl/latest/#Example-data-1). This data set is available in the `data` folder of the package. \n",
    "\n",
    "`EUR_subset` contains **379** individuals and **54,051** SNPs. `EUR_subset.bed`, `EUR_subset.bim`, and `EUR_subset.fam` is a set of Plink files in binary format."
   ]
  },
  {
   "cell_type": "code",
   "execution_count": 3,
   "metadata": {},
   "outputs": [
    {
     "name": "stderr",
     "output_type": "stream",
     "text": [
      "┌ Info: Precompiling SnpArrays [4e780e97-f5bf-4111-9dc4-b70aaf691b06]\n",
      "└ @ Base loading.jl:1273\n"
     ]
    }
   ],
   "source": [
    "using SnpArrays"
   ]
  },
  {
   "cell_type": "code",
   "execution_count": 4,
   "metadata": {},
   "outputs": [
    {
     "data": {
      "text/plain": [
       "\"/Users/juhyun-kim/.julia/dev/SnpArrays/data\""
      ]
     },
     "execution_count": 4,
     "metadata": {},
     "output_type": "execute_result"
    }
   ],
   "source": [
    "datapath = normpath(SnpArrays.datadir())"
   ]
  },
  {
   "cell_type": "code",
   "execution_count": 5,
   "metadata": {},
   "outputs": [
    {
     "ename": "LoadError",
     "evalue": "UndefVarError: @glob_str not defined",
     "output_type": "error",
     "traceback": [
      "UndefVarError: @glob_str not defined",
      ""
     ]
    }
   ],
   "source": [
    "readdir(glob\"EUR_subset.*\", datapath)"
   ]
  },
  {
   "cell_type": "markdown",
   "metadata": {},
   "source": [
    "### Read in binary SNP data "
   ]
  },
  {
   "cell_type": "markdown",
   "metadata": {},
   "source": [
    "We use the [`SnpArrays.jl`](https://openmendel.github.io/SnpArrays.jl/latest) package to read in binary SNP data and compute the empirical kinship matrix. "
   ]
  },
  {
   "cell_type": "code",
   "execution_count": 6,
   "metadata": {},
   "outputs": [
    {
     "data": {
      "text/plain": [
       "379×54051 SnpArray:\n",
       " 0x03  0x03  0x03  0x02  0x02  0x03  …  0x03  0x03  0x03  0x03  0x03  0x03\n",
       " 0x03  0x02  0x03  0x02  0x03  0x03     0x03  0x03  0x03  0x03  0x03  0x03\n",
       " 0x03  0x03  0x03  0x03  0x03  0x03     0x02  0x02  0x02  0x03  0x03  0x02\n",
       " 0x03  0x03  0x03  0x00  0x03  0x03     0x03  0x03  0x03  0x03  0x03  0x03\n",
       " 0x03  0x03  0x03  0x00  0x03  0x03     0x02  0x02  0x02  0x03  0x03  0x03\n",
       " 0x02  0x03  0x03  0x03  0x03  0x03  …  0x03  0x03  0x03  0x03  0x03  0x02\n",
       " 0x02  0x03  0x03  0x02  0x02  0x03     0x03  0x03  0x02  0x02  0x03  0x03\n",
       " 0x02  0x03  0x03  0x03  0x02  0x02     0x03  0x03  0x03  0x03  0x03  0x03\n",
       " 0x03  0x03  0x03  0x00  0x02  0x03     0x03  0x03  0x03  0x03  0x03  0x03\n",
       " 0x02  0x03  0x03  0x02  0x03  0x02     0x03  0x03  0x03  0x03  0x03  0x03\n",
       " 0x03  0x03  0x03  0x02  0x03  0x03  …  0x03  0x03  0x02  0x02  0x03  0x03\n",
       " 0x03  0x03  0x03  0x02  0x03  0x03     0x03  0x03  0x03  0x03  0x03  0x02\n",
       " 0x03  0x02  0x03  0x02  0x02  0x03     0x03  0x03  0x03  0x03  0x03  0x03\n",
       "    ⋮                             ⋮  ⋱     ⋮                             ⋮\n",
       " 0x03  0x03  0x03  0x00  0x02  0x03     0x03  0x03  0x03  0x03  0x03  0x03\n",
       " 0x03  0x03  0x03  0x02  0x02  0x03     0x02  0x02  0x02  0x03  0x02  0x03\n",
       " 0x03  0x03  0x03  0x02  0x02  0x03     0x03  0x03  0x03  0x03  0x03  0x03\n",
       " 0x02  0x03  0x03  0x02  0x03  0x03  …  0x03  0x03  0x03  0x03  0x03  0x03\n",
       " 0x03  0x03  0x03  0x00  0x00  0x03     0x02  0x02  0x02  0x03  0x03  0x03\n",
       " 0x02  0x03  0x03  0x03  0x03  0x03     0x03  0x03  0x03  0x03  0x03  0x03\n",
       " 0x03  0x03  0x03  0x02  0x03  0x03     0x03  0x03  0x03  0x03  0x03  0x03\n",
       " 0x03  0x03  0x03  0x02  0x03  0x03     0x03  0x03  0x03  0x03  0x03  0x03\n",
       " 0x02  0x03  0x03  0x03  0x03  0x03  …  0x03  0x03  0x02  0x02  0x03  0x03\n",
       " 0x03  0x03  0x03  0x00  0x03  0x03     0x03  0x03  0x03  0x03  0x03  0x03\n",
       " 0x02  0x03  0x03  0x02  0x00  0x02     0x03  0x03  0x03  0x03  0x03  0x03\n",
       " 0x03  0x03  0x03  0x02  0x02  0x03     0x03  0x03  0x03  0x03  0x03  0x03"
      ]
     },
     "execution_count": 6,
     "metadata": {},
     "output_type": "execute_result"
    }
   ],
   "source": [
    "# read in genotype data from Plink binary file\n",
    "const EUR_subset = SnpArray(SnpArrays.datadir(\"EUR_subset.bed\"))"
   ]
  },
  {
   "cell_type": "markdown",
   "metadata": {},
   "source": [
    "### Summary statistics of SNP data"
   ]
  },
  {
   "cell_type": "code",
   "execution_count": 17,
   "metadata": {
    "scrolled": true
   },
   "outputs": [
    {
     "data": {
      "text/plain": [
       "(379, 54051)"
      ]
     },
     "execution_count": 17,
     "metadata": {},
     "output_type": "execute_result"
    }
   ],
   "source": [
    "nobs, nsnps = size(EUR_subset)"
   ]
  },
  {
   "cell_type": "markdown",
   "metadata": {},
   "source": [
    "The positions of the missing data are evaluated by"
   ]
  },
  {
   "cell_type": "code",
   "execution_count": 32,
   "metadata": {},
   "outputs": [
    {
     "data": {
      "text/plain": [
       "379×54051 SparseArrays.SparseMatrixCSC{Bool,Int32} with 0 stored entries"
      ]
     },
     "execution_count": 32,
     "metadata": {},
     "output_type": "execute_result"
    }
   ],
   "source": [
    "mp = missingpos(EUR_subset)"
   ]
  },
  {
   "cell_type": "markdown",
   "metadata": {},
   "source": [
    "Data set `EUR_subset` contains no missing genotypes. Note that `SnpArrays.jl` provides an option to impute missing genotypes by column mean if the data at hand had missing values. "
   ]
  },
  {
   "cell_type": "markdown",
   "metadata": {},
   "source": [
    "Minor allele frequencies (MAF) for each SNP."
   ]
  },
  {
   "cell_type": "code",
   "execution_count": 9,
   "metadata": {},
   "outputs": [
    {
     "data": {
      "text/plain": [
       "54051-element Array{Float64,1}:\n",
       " 0.09762532981530347\n",
       " 0.01319261213720313\n",
       " 0.04485488126649073\n",
       " 0.48944591029023743\n",
       " 0.32189973614775724\n",
       " 0.09102902374670185\n",
       " 0.3733509234828496 \n",
       " 0.05277044854881263\n",
       " 0.0554089709762533 \n",
       " 0.11345646437994727\n",
       " 0.20448548812664913\n",
       " 0.16226912928759896\n",
       " 0.27176781002638517\n",
       " ⋮                  \n",
       " 0.341688654353562  \n",
       " 0.13192612137203164\n",
       " 0.24802110817941958\n",
       " 0.21240105540897103\n",
       " 0.12532981530343013\n",
       " 0.13192612137203164\n",
       " 0.07387862796833777\n",
       " 0.07783641160949872\n",
       " 0.13588390501319259\n",
       " 0.0554089709762533 \n",
       " 0.01319261213720313\n",
       " 0.02638522427440637"
      ]
     },
     "execution_count": 9,
     "metadata": {},
     "output_type": "execute_result"
    }
   ],
   "source": [
    "maf_EUR = maf(EUR_subset)"
   ]
  },
  {
   "cell_type": "code",
   "execution_count": 10,
   "metadata": {},
   "outputs": [
    {
     "data": {
      "text/plain": [
       "([0.01055408970976257 0.0395778364116095 … 0.29023746701846964 0.5], 0.17512796597018288)"
      ]
     },
     "execution_count": 10,
     "metadata": {},
     "output_type": "execute_result"
    }
   ],
   "source": [
    "# 5 number summary and average MAF (minor allele frequencies)\n",
    "using Statistics\n",
    "Statistics.quantile(maf_EUR, [0.0 .25 .5 .75 1.0]), mean(maf_EUR)"
   ]
  },
  {
   "cell_type": "code",
   "execution_count": 11,
   "metadata": {},
   "outputs": [
    {
     "data": {
      "image/png": "[encoded data removed]"
     },
     "execution_count": 11,
     "metadata": {},
     "output_type": "execute_result"
    }
   ],
   "source": [
    "using Plots, PyPlot\n",
    "\n",
    "gr(size=(600,500), html_output_format=:png)\n",
    "histogram(maf_EUR, xlab = \"Minor Allele Frequency (MAF)\", label = \"MAF\")"
   ]
  },
  {
   "cell_type": "code",
   "execution_count": 14,
   "metadata": {},
   "outputs": [
    {
     "data": {
      "text/plain": [
       "0.2914839688442397"
      ]
     },
     "execution_count": 14,
     "metadata": {},
     "output_type": "execute_result"
    }
   ],
   "source": [
    "# proportion of rare SNPs with maf < 0.05\n",
    "count(!iszero, maf_EUR .< 0.05) / length(maf_EUR)"
   ]
  },
  {
   "cell_type": "markdown",
   "metadata": {},
   "source": [
    "### Empirical kinship matrix"
   ]
  },
  {
   "cell_type": "markdown",
   "metadata": {},
   "source": [
    "We estimate empirical kinship based on all SNPs by the genetic relation matrix (GRM). If there are missing genotypes, they are imputed on the fly by drawing according to the minor allele frequencies."
   ]
  },
  {
   "cell_type": "code",
   "execution_count": 15,
   "metadata": {
    "scrolled": true
   },
   "outputs": [
    {
     "name": "stdout",
     "output_type": "stream",
     "text": [
      "  2.168888 seconds (4.42 M allocations: 212.301 MiB, 3.98% gc time)\n"
     ]
    },
    {
     "data": {
      "text/plain": [
       "379×379 Array{Float64,2}:\n",
       "  0.526913     -0.010026     -0.0012793    …   0.00536883    0.00713397 \n",
       " -0.010026      0.500049      0.00147092      -0.00178778   -0.00344277 \n",
       " -0.0012793     0.00147092    0.521904        -0.0109387    -0.00262695 \n",
       " -0.00239381    0.00550462    0.00755985      -0.00265867   -0.000141742\n",
       " -0.00391296    0.00422806    0.0222034       -0.0107694    -0.00248895 \n",
       " -0.000555581   0.000696874   0.0125771    …  -0.0100831    -0.00575495 \n",
       " -0.0095376     0.00231344   -0.00259641      -0.00282701    0.000732385\n",
       " -0.00823869    0.00556861    0.0060825       -0.00911662   -0.00638629 \n",
       "  0.00117402   -0.00444907   -0.0029182       -0.00244795    0.00634087 \n",
       " -0.0111617     0.00436269    0.000537307     -0.00483523   -0.00621726 \n",
       " -0.00252813   -0.000626719   0.00753937   …  -0.00180836    0.00714953 \n",
       "  0.0112036    -0.0024306     0.00446458      -0.00983116   -0.00296109 \n",
       " -0.000451414   0.00707358   -0.00620136      -0.00473171   -0.00720874 \n",
       "  ⋮                                        ⋱                            \n",
       "  0.00299953   -0.0113682    -0.00331268       0.00565771    0.00808339 \n",
       " -0.000521854  -0.00646386   -0.00512474       0.00167572    0.00482433 \n",
       "  0.000970612  -0.00430486   -0.0129335        0.00490171    0.0147362  \n",
       " -0.000163565  -0.00179531   -0.0108611    …   0.000459623   0.0036255  \n",
       " -0.00668885    0.00617908   -0.00415613       0.0031146    -0.00221311 \n",
       "  0.00297165   -0.00743712   -0.0137732        0.0058214     0.00386105 \n",
       " -0.0024849     0.00320647   -0.0127255       -0.0058388     0.00697399 \n",
       " -0.00166949   -0.0086805     0.00108433       0.0173396     0.0188838  \n",
       " -0.00412641    0.00783768   -0.00977001   …   0.00661336    0.00828826 \n",
       "  0.00678741   -0.00598927   -0.00121965      -0.00176491   -0.00611699 \n",
       "  0.00536883   -0.00178778   -0.0109387        0.492959      0.0131705  \n",
       "  0.00713397   -0.00344277   -0.00262695       0.0131705     0.512193   "
      ]
     },
     "execution_count": 15,
     "metadata": {},
     "output_type": "execute_result"
    }
   ],
   "source": [
    "## GRM using SNPs with maf > 0.01 (default) (~10 mins on my laptop)\n",
    "using Random \n",
    "Random.seed!(123)\n",
    "@time Φgrm = grm(EUR_subset; method = :GRM)"
   ]
  },
  {
   "cell_type": "markdown",
   "metadata": {},
   "source": [
    "### Simulating phenotypes \n"
   ]
  },
  {
   "cell_type": "markdown",
   "metadata": {},
   "source": [
    "We simulate phenotype vector from\n",
    "\n",
    "$$\\mathbf{y} \\sim \\text{Normal}(\\mathbf{1}, 0.1 \\widehat{\\Phi} + 0.9 \\mathbf{I})$$\n",
    "\n",
    "where $\\widehat{\\Phi}$ is the estimated empirical kinship matrix `Φgrm`. \n",
    "\n",
    "The data should be available in `pheno.txt`."
   ]
  },
  {
   "cell_type": "code",
   "execution_count": 20,
   "metadata": {},
   "outputs": [],
   "source": [
    "# using LinearAlgebra, DelimitedFiles\n",
    "# Random.seed!(1234)\n",
    "# Ω = 0.1 * Φgrm + 0.9 * Matrix(1.0*I, nobs, nobs)\n",
    "# Ωchol = cholesky(Symmetric(Ω))\n",
    "# y = ones(nobs) + Ωchol.L * randn(nobs)\n",
    "# writedlm(\"pheno.txt\", y)"
   ]
  },
  {
   "cell_type": "markdown",
   "metadata": {},
   "source": [
    "### Phenotypes "
   ]
  },
  {
   "cell_type": "markdown",
   "metadata": {},
   "source": [
    "Read in the phenotype data and plot a histogram."
   ]
  },
  {
   "cell_type": "code",
   "execution_count": 21,
   "metadata": {},
   "outputs": [
    {
     "data": {
      "text/plain": [
       "379×1 Array{Float64,2}:\n",
       "  1.846582104608307  \n",
       "  0.12019614558345848\n",
       "  0.5172368025545149 \n",
       "  0.11933401051509984\n",
       "  1.8407354203053767 \n",
       "  3.155309404417616  \n",
       "  1.518422163488851  \n",
       "  0.737544574135081  \n",
       "  1.4904102203720164 \n",
       "  0.4942945743765427 \n",
       "  0.4566487030521649 \n",
       "  0.9830094325553045 \n",
       "  1.1241872723791884 \n",
       "  ⋮                  \n",
       "  0.03800817892237962\n",
       "  0.7685596964598539 \n",
       "  0.9285816069462199 \n",
       " -1.3005655794765896 \n",
       "  1.27142883079584   \n",
       "  1.8149274022746835 \n",
       "  2.353663701577899  \n",
       "  1.3085170568729798 \n",
       "  1.2023649250831836 \n",
       "  2.523945778298307  \n",
       "  2.339893360260807  \n",
       "  0.08293644385047372"
      ]
     },
     "execution_count": 21,
     "metadata": {},
     "output_type": "execute_result"
    }
   ],
   "source": [
    "using DelimitedFiles \n",
    "\n",
    "y = readdlm(\"pheno.txt\")"
   ]
  },
  {
   "cell_type": "code",
   "execution_count": 24,
   "metadata": {},
   "outputs": [
    {
     "data": {
      "image/png": "[encoded data removed]"
     },
     "execution_count": 24,
     "metadata": {},
     "output_type": "execute_result"
    }
   ],
   "source": [
    "histogram(y)"
   ]
  },
  {
   "cell_type": "markdown",
   "metadata": {},
   "source": [
    "### Pre-processing data for heritability analysis"
   ]
  },
  {
   "cell_type": "markdown",
   "metadata": {},
   "source": [
    "To prepare variance component model fitting, we form an instance of VarianceComponentVariate. The two variance components are $(2\\Phi, I)$."
   ]
  },
  {
   "cell_type": "code",
   "execution_count": 28,
   "metadata": {},
   "outputs": [
    {
     "data": {
      "text/plain": [
       "(:Y, :X, :V)"
      ]
     },
     "execution_count": 28,
     "metadata": {},
     "output_type": "execute_result"
    }
   ],
   "source": [
    "using VarianceComponentModels, LinearAlgebra\n",
    "\n",
    "# form data as VarianceComponentVariate\n",
    "EURdata = VarianceComponentVariate(y, (2Φgrm, Matrix(1.0I, size(y, 1), size(y, 1))))\n",
    "fieldnames(typeof(EURdata))"
   ]
  },
  {
   "cell_type": "code",
   "execution_count": 29,
   "metadata": {},
   "outputs": [
    {
     "data": {
      "text/plain": [
       "VarianceComponentVariate{Float64,2,Array{Float64,2},Array{Float64,2},Array{Float64,2}}([1.846582104608307; 0.12019614558345848; … ; 2.339893360260807; 0.08293644385047372], Array{Float64}(undef,379,0), ([1.053826221313203 -0.020052039279012966 … 0.010737654900514952 0.014267936018676375; -0.020052039279012966 1.0000975487266066 … -0.0035755533910532874 -0.0068855303347012935; … ; 0.010737654900514952 -0.0035755533910532874 … 0.9859187797469418 0.02634099295946666; 0.014267936018676375 -0.0068855303347012935 … 0.02634099295946666 1.0243852451056223], [1.0 0.0 … 0.0 0.0; 0.0 1.0 … 0.0 0.0; … ; 0.0 0.0 … 1.0 0.0; 0.0 0.0 … 0.0 1.0]))"
      ]
     },
     "execution_count": 29,
     "metadata": {},
     "output_type": "execute_result"
    }
   ],
   "source": [
    "EURdata"
   ]
  },
  {
   "cell_type": "markdown",
   "metadata": {},
   "source": [
    "Before fitting the variance component model, we pre-compute the eigen-decomposition of $2\\Phi_{\\text{GRM}}$, the rotated responses, and the constant part in log-likelihood, and store them as a TwoVarCompVariateRotate instance, which is re-used in various variane component estimation procedures."
   ]
  },
  {
   "cell_type": "code",
   "execution_count": 32,
   "metadata": {},
   "outputs": [
    {
     "name": "stdout",
     "output_type": "stream",
     "text": [
      "  0.070397 seconds (23 allocations: 3.434 MiB)\n"
     ]
    },
    {
     "data": {
      "text/plain": [
       "(:Yrot, :Xrot, :eigval, :eigvec, :logdetV2)"
      ]
     },
     "execution_count": 32,
     "metadata": {},
     "output_type": "execute_result"
    }
   ],
   "source": [
    "# pre-compute eigen-decomposition \n",
    "@time EURdata_rotated = TwoVarCompVariateRotate(EURdata)\n",
    "fieldnames(typeof(EURdata_rotated))"
   ]
  },
  {
   "cell_type": "markdown",
   "metadata": {
    "collapsed": true
   },
   "source": [
    "### Heritability of single traits "
   ]
  },
  {
   "cell_type": "markdown",
   "metadata": {},
   "source": [
    "We use Fisher scoring algorithm to fit variance component model for each single trait. "
   ]
  },
  {
   "cell_type": "code",
   "execution_count": 34,
   "metadata": {},
   "outputs": [
    {
     "data": {
      "text/plain": [
       "(:Yrot, :Xrot, :eigval, :eigvec, :logdetV2)"
      ]
     },
     "execution_count": 34,
     "metadata": {},
     "output_type": "execute_result"
    }
   ],
   "source": [
    "fieldnames(typeof(EURdata_rotated))"
   ]
  },
  {
   "cell_type": "code",
   "execution_count": 35,
   "metadata": {},
   "outputs": [
    {
     "name": "stdout",
     "output_type": "stream",
     "text": [
      "\n",
      "******************************************************************************\n",
      "This program contains Ipopt, a library for large-scale nonlinear optimization.\n",
      " Ipopt is released as open source code under the Eclipse Public License (EPL).\n",
      "         For more information visit http://projects.coin-or.org/Ipopt\n",
      "******************************************************************************\n",
      "\n",
      "(σ2a, σ2e) = (2.4667887669561085e-31, 1.9170442095947509)\n"
     ]
    },
    {
     "data": {
      "text/plain": [
       "(2.4667887669561085e-31, 1.9170442095947509)"
      ]
     },
     "execution_count": 35,
     "metadata": {},
     "output_type": "execute_result"
    }
   ],
   "source": [
    "# heritability from single trait analysis\n",
    "hST = zeros(1)\n",
    "# standard errors of estimated heritability\n",
    "hST_se = zeros(1)\n",
    "# additive genetic effects\n",
    "σ2a = zeros(1)\n",
    "# enviromental effects\n",
    "σ2e = zeros(1)\n",
    "\n",
    "\n",
    "# form data set for trait j\n",
    "trait_data = TwoVarCompVariateRotate(EURdata_rotated.Yrot, \n",
    "    EURdata_rotated.Xrot, EURdata_rotated.eigval, EURdata_rotated.eigvec, \n",
    "    EURdata_rotated.logdetV2)\n",
    "# initialize model parameters\n",
    "trait_model = VarianceComponentModel(trait_data)\n",
    "# estimate variance components\n",
    "_, _, _, Σcov, = mle_fs!(trait_model, trait_data; solver=:Ipopt, verbose=false)\n",
    "σ2a = trait_model.Σ[1][1]\n",
    "σ2e = trait_model.Σ[2][1]\n",
    "@show σ2a, σ2e\n",
    "#h, hse = heritability(traitj_model.Σ, Σcov)\n",
    "#heritability(traitj_model.Σ, Σcov)\n",
    "#hST[trait] = h[1]\n",
    "#hST_se[trait] = hse[1]\n"
   ]
  },
  {
   "cell_type": "markdown",
   "metadata": {},
   "source": [
    "### Pairwise traits"
   ]
  },
  {
   "cell_type": "markdown",
   "metadata": {},
   "source": [
    "Joint analysis of multiple traits is subject to intensive research recently. Following code snippet does joint analysis of all pairs of traits, a total of ?? bivariate variane component models."
   ]
  },
  {
   "cell_type": "code",
   "execution_count": null,
   "metadata": {
    "collapsed": true
   },
   "outputs": [],
   "source": [
    " additive genetic effects (2x2 psd matrices) from bavariate trait analysis;\n",
    "Σa = Array{Matrix{Float64}}(13, 13)\n",
    "# environmental effects (2x2 psd matrices) from bavariate trait analysis;\n",
    "Σe = Array{Matrix{Float64}}(13, 13)\n",
    "\n",
    "@time for i in 1:13\n",
    "    for j in (i+1):13\n",
    "        println(names(cg10k_trait)[i + 2], names(cg10k_trait)[j + 2])\n",
    "        # form data set for (trait1, trait2)\n",
    "        traitij_data = TwoVarCompVariateRotate(cg10kdata_rotated.Yrot[:, [i;j]], cg10kdata_rotated.Xrot, \n",
    "            cg10kdata_rotated.eigval, cg10kdata_rotated.eigvec, cg10kdata_rotated.logdetV2)\n",
    "        # initialize model parameters\n",
    "        traitij_model = VarianceComponentModel(traitij_data)\n",
    "        # estimate variance components\n",
    "        mle_fs!(traitij_model, traitij_data; solver=:Ipopt, verbose=false)\n",
    "        Σa[i, j] = traitij_model.Σ[1]\n",
    "        Σe[i, j] = traitij_model.Σ[2]\n",
    "        @show Σa[i, j], Σe[i, j]\n",
    "    end\n",
    "end"
   ]
  },
  {
   "cell_type": "markdown",
   "metadata": {},
   "source": [
    "### 3-trait analysis"
   ]
  },
  {
   "cell_type": "markdown",
   "metadata": {},
   "source": [
    "Researchers want to jointly analyze traits 5-7. Our strategy is to try both Fisher scoring and MM algorithm with different starting point, and choose the best local optimum. We first form the data set and run Fisher scoring, which yields a final objective value -1.4700991+04."
   ]
  },
  {
   "cell_type": "code",
   "execution_count": null,
   "metadata": {
    "collapsed": true
   },
   "outputs": [],
   "source": [
    "traitidx = 5:7\n",
    "# form data set\n",
    "trait57_data = TwoVarCompVariateRotate(cg10kdata_rotated.Yrot[:, traitidx], cg10kdata_rotated.Xrot, \n",
    "    cg10kdata_rotated.eigval, cg10kdata_rotated.eigvec, cg10kdata_rotated.logdetV2)\n",
    "# initialize model parameters\n",
    "trait57_model = VarianceComponentModel(trait57_data)\n",
    "# estimate variance components\n",
    "@time mle_fs!(trait57_model, trait57_data; solver=:Ipopt, verbose=true)\n",
    "trait57_model"
   ]
  },
  {
   "cell_type": "markdown",
   "metadata": {},
   "source": [
    "We then run the MM algorithm, starting from the Fisher scoring answer. MM finds an improved solution with objective value 8.955397e+03."
   ]
  },
  {
   "cell_type": "code",
   "execution_count": null,
   "metadata": {
    "collapsed": true
   },
   "outputs": [],
   "source": [
    "# trait59_model contains the fitted model by Fisher scoring now\n",
    "@time mle_mm!(trait57_model, trait57_data; verbose=true)\n",
    "trait57_model"
   ]
  },
  {
   "cell_type": "markdown",
   "metadata": {},
   "source": [
    "Do another run of MM algorithm from default starting point. It leads to a slightly better local optimum -1.470104e+04, slighly worse than the Fisher scoring result. Follow up anlaysis should use the Fisher scoring result."
   ]
  },
  {
   "cell_type": "code",
   "execution_count": null,
   "metadata": {
    "collapsed": true
   },
   "outputs": [],
   "source": [
    "# default starting point\n",
    "trait57_model = VarianceComponentModel(trait57_data)\n",
    "@time _, _, _, Σcov, = mle_mm!(trait57_model, trait57_data; verbose=true)\n",
    "trait57_model"
   ]
  },
  {
   "cell_type": "markdown",
   "metadata": {},
   "source": [
    "Heritability from 3-variate estimate and their standard errors."
   ]
  },
  {
   "cell_type": "code",
   "execution_count": null,
   "metadata": {
    "collapsed": true
   },
   "outputs": [],
   "source": [
    "h, hse = heritability(trait57_model.Σ, Σcov)\n",
    "[h'; hse']"
   ]
  },
  {
   "cell_type": "markdown",
   "metadata": {},
   "source": [
    "### Save analysis results"
   ]
  },
  {
   "cell_type": "code",
   "execution_count": null,
   "metadata": {
    "collapsed": true
   },
   "outputs": [],
   "source": [
    "#using JLD\n",
    "#@save \"copd.jld\"\n",
    "#whos()"
   ]
  }
 ],
 "metadata": {
  "kernelspec": {
   "display_name": "Julia 1.3.1",
   "language": "julia",
   "name": "julia-1.3"
  },
  "language_info": {
   "file_extension": ".jl",
   "mimetype": "application/julia",
   "name": "julia",
   "version": "1.3.1"
  },
  "toc": {
   "base_numbering": 1,
   "nav_menu": {
    "height": "293px",
    "width": "362px"
   },
   "number_sections": false,
   "sideBar": true,
   "skip_h1_title": true,
   "title_cell": "Table of Contents",
   "title_sidebar": "Contents",
   "toc_cell": true,
   "toc_position": {
    "height": "calc(100% - 180px)",
    "left": "10px",
    "top": "150px",
    "width": "288px"
   },
   "toc_section_display": true,
   "toc_window_display": true
  }
 },
 "nbformat": 4,
 "nbformat_minor": 2
}
